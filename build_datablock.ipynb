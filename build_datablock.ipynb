{
  "nbformat": 4,
  "nbformat_minor": 0,
  "metadata": {
    "colab": {
      "name": "build_datablock.ipynb",
      "provenance": [],
      "collapsed_sections": [
        "GSC5l1akHGZL",
        "Nna2NcT4HKMx",
        "OHfzUwkrN4rt",
        "3iDh9RzxHUUm"
      ],
      "authorship_tag": "ABX9TyNVPrFdAYhvuwHfWaxEv0G/",
      "include_colab_link": true
    },
    "kernelspec": {
      "name": "python3",
      "display_name": "Python 3"
    },
    "language_info": {
      "name": "python"
    },
    "accelerator": "GPU"
  },
  "cells": [
    {
      "cell_type": "markdown",
      "metadata": {
        "id": "view-in-github",
        "colab_type": "text"
      },
      "source": [
        "<a href=\"https://colab.research.google.com/github/lphohmann/DL_microbial_gene_classifier/blob/main/build_datablock.ipynb\" target=\"_parent\"><img src=\"https://colab.research.google.com/assets/colab-badge.svg\" alt=\"Open In Colab\"/></a>"
      ]
    },
    {
      "cell_type": "markdown",
      "metadata": {
        "id": "ls7G-UGENZWZ"
      },
      "source": [
        "to do:\n",
        "1. solve forward() error\n",
        "2. prep meeting: clean colab notebook\n",
        "3. 1D cnn ausprobieren wo channels = num distinct aa's\n",
        "4. internship fragen\n",
        "5. presentation date"
      ]
    },
    {
      "cell_type": "markdown",
      "metadata": {
        "id": "RNOs9h03HA0w"
      },
      "source": [
        "# 1. Setting everything up"
      ]
    },
    {
      "cell_type": "code",
      "metadata": {
        "id": "XQFnDp2fo-H_"
      },
      "source": [
        "#hide\n",
        "# do i still need this? \n",
        "#!pip install fastai --upgrade"
      ],
      "execution_count": null,
      "outputs": []
    },
    {
      "cell_type": "code",
      "metadata": {
        "id": "QT3j2jdYk2gy",
        "colab": {
          "base_uri": "https://localhost:8080/"
        },
        "outputId": "a382a6cf-5a60-44ff-bf25-7ecc631a40de"
      },
      "source": [
        "#hide\n",
        "#!pip install torchtext==0.8.1\n",
        "!pip install -Uqq fastbook\n",
        "import fastbook\n",
        "fastbook.setup_book()"
      ],
      "execution_count": null,
      "outputs": [
        {
          "output_type": "stream",
          "text": [
            "\u001b[K     |████████████████████████████████| 727kB 2.9MB/s \n",
            "\u001b[K     |████████████████████████████████| 204kB 12.5MB/s \n",
            "\u001b[K     |████████████████████████████████| 51kB 5.0MB/s \n",
            "\u001b[K     |████████████████████████████████| 1.2MB 18.1MB/s \n",
            "\u001b[K     |████████████████████████████████| 61kB 6.3MB/s \n",
            "\u001b[K     |████████████████████████████████| 61kB 6.7MB/s \n",
            "\u001b[?25hMounted at /content/gdrive\n"
          ],
          "name": "stdout"
        }
      ]
    },
    {
      "cell_type": "code",
      "metadata": {
        "id": "RFzbFyx1k3Q7"
      },
      "source": [
        "#hide\n",
        "import fastai\n",
        "from fastbook import *"
      ],
      "execution_count": null,
      "outputs": []
    },
    {
      "cell_type": "code",
      "metadata": {
        "id": "4E-3B33Y5x84"
      },
      "source": [
        "import numpy as np"
      ],
      "execution_count": null,
      "outputs": []
    },
    {
      "cell_type": "code",
      "metadata": {
        "id": "1pvbcIQBeiBC",
        "colab": {
          "base_uri": "https://localhost:8080/"
        },
        "outputId": "5ce90a25-25de-42f9-9d27-bd9dcdd5a58d"
      },
      "source": [
        "# mount google drive to access files and set the correct working\n",
        "from google.colab import drive\n",
        "drive.mount('/content/drive', force_remount=True)\n",
        "%cd drive/MyDrive/ColabNotebooks/DL_project/\n",
        "!pwd"
      ],
      "execution_count": null,
      "outputs": [
        {
          "output_type": "stream",
          "text": [
            "Mounted at /content/drive\n",
            "/content/drive/MyDrive/ColabNotebooks/DL_project\n",
            "/content/drive/MyDrive/ColabNotebooks/DL_project\n"
          ],
          "name": "stdout"
        }
      ]
    },
    {
      "cell_type": "markdown",
      "metadata": {
        "id": "GSC5l1akHGZL"
      },
      "source": [
        "# 2. Load the data and create the dataloader for 2D CNN layers\n"
      ]
    },
    {
      "cell_type": "code",
      "metadata": {
        "id": "Qt4nOCS3GgBj"
      },
      "source": [
        "# cell to check function documentation\n",
        "#??nn.Conv2d"
      ],
      "execution_count": null,
      "outputs": []
    },
    {
      "cell_type": "code",
      "metadata": {
        "id": "yXfQhg_9FvoR"
      },
      "source": [
        "# read in my data from which training and validation set will be created\n",
        "trainval = pd.read_csv('trainval.csv', low_memory=False)"
      ],
      "execution_count": null,
      "outputs": []
    },
    {
      "cell_type": "code",
      "metadata": {
        "id": "r2HWIqpvBdER"
      },
      "source": [
        "# defining functions required for correctly loading the data\n",
        "# one hot encoding function\n",
        "from sklearn.preprocessing import OneHotEncoder\n",
        "def OH_enc(seq: str):\n",
        "    # get the categories into array\n",
        "    cats = ['K', 'D', 'N', 'E', 'R', 'A', 'T', 'L', 'I', 'Q', 'C', 'F', 'G', 'W', 'M', 'S', 'H', 'P', 'V', 'Y']\n",
        "    cat_array = np.array(sorted(cats), ndmin=1) #\n",
        "    # get seq into array\n",
        "    trunc_seq = seq[:300] # truncate sequences longer than 300 \n",
        "    seq_array = np.array(list(trunc_seq))\n",
        "    # one hot encode the sequence\n",
        "    onehot_encoder = OneHotEncoder(categories=[cat_array],sparse=False,handle_unknown='ignore')\n",
        "    onehot_encoded_seq = onehot_encoder.fit_transform(seq_array.reshape(len(seq_array), 1))\n",
        "    return np.transpose(onehot_encoded_seq)\n",
        "\n",
        "# zero padding function\n",
        "def pad_along_axis(array: np.ndarray, target_length: int, axis: int = 0):\n",
        "    pad_size = target_length - array.shape[axis]\n",
        "    if pad_size <= 0:\n",
        "        return array\n",
        "    npad = [(0, 0)] * array.ndim\n",
        "    npad[axis] = (0, pad_size)\n",
        "    return np.pad(array, pad_width=npad, mode='constant', constant_values=0)\n",
        "\n",
        "# combine in one function\n",
        "def main_item_tfms(seq): \n",
        "    enc_seq = OH_enc(seq)\n",
        "    pad_encseq_array = pad_along_axis(enc_seq,300,1) # pad to length 300, has to match seq truncate length\n",
        "    return pad_encseq_array \n",
        "\n",
        "# categorize transform\n",
        "tcat = Categorize(vocab=['K00024', 'K00121', 'K00122', 'K00123', 'K00124', 'K00126',\n",
        "       'K00127', 'K00148', 'K00169', 'K00170', 'K00171', 'K00172',\n",
        "       'K00194', 'K00196', 'K00197', 'K00198', 'K00200', 'K00201',\n",
        "       'K00202', 'K00317', 'K00320', 'K00441', 'K00600', 'K00625',\n",
        "       'K00672', 'K00830', 'K00925', 'K01007', 'K01070', 'K01499',\n",
        "       'K01595', 'K01895', 'K03388', 'K03389', 'K03390', 'K05979',\n",
        "       'K06034', 'K08097', 'K08691', 'K08692', 'K09733', 'K10713',\n",
        "       'K10714', 'K11212', 'K11261', 'K11779', 'K11780', 'K12234',\n",
        "       'K13039', 'K13788', 'K14067', 'K14080', 'K14083', 'K14940',\n",
        "       'K14941', 'K15228', 'K15229', 'K18277'])\n",
        "\n",
        "# to tensor transform and int to float tensor transform (possibly not neccessary due to always being applied)\n",
        "tconv = ToTensor()\n",
        "tofloat = IntToFloatTensor()\n",
        "# Note: possibly add normalize transform to batch transforms\n",
        "#batch_tfms = [IntToFloatTensor(), Normalize.from_stats(mean,std)]\n",
        "\n",
        "# get x and y by specifying column in dataframe\n",
        "def get_y(r): return tcat(r['Knum']) # apply the categorize trasnform \n",
        "\n",
        "def get_x(r): # apply the one hot encoding and padding function\n",
        "    #return np.expand_dims(main_item_tfms(r['Seq']),0) # this should add a dimension at 0 leading to shape ([256, 1, 20, 300])\n",
        "    return np.broadcast_to(np.expand_dims(main_item_tfms(r['Seq']),0), (3, 20, 300)).copy() # this adds 3 channel dimensions by repeating the values giving shape ([256, 3, 20, 300])\n",
        "\n",
        "# building the datablock\n",
        "dblock = DataBlock(\n",
        "                 splitter = TrainTestSplitter(test_size=0.2, random_state=42, stratify=trainval[['Knum']]),\n",
        "                 get_x = get_x,\n",
        "                 get_y = get_y,\n",
        "                 item_tfms = tconv,\n",
        "                 batch_tfms = tofloat\n",
        "                 )"
      ],
      "execution_count": null,
      "outputs": []
    },
    {
      "cell_type": "code",
      "metadata": {
        "id": "s69xjfcKKTVf"
      },
      "source": [
        "# check the dblock\n",
        "#dblock.summary(trainval)"
      ],
      "execution_count": null,
      "outputs": []
    },
    {
      "cell_type": "code",
      "metadata": {
        "id": "Z7m3DBkE8Rb-"
      },
      "source": [
        "# create dataloaders from datablock \n",
        "dls = dblock.dataloaders(trainval,bs=256) # batch size = 256"
      ],
      "execution_count": null,
      "outputs": []
    },
    {
      "cell_type": "code",
      "metadata": {
        "colab": {
          "base_uri": "https://localhost:8080/"
        },
        "id": "nONx3O7TSleL",
        "outputId": "16e70ffd-878e-475a-d65b-cece9deb16ca"
      },
      "source": [
        "# check one batch to make sure the dls is constructed right\n",
        "x,y = dls.one_batch()\n",
        "#y # these should be the targets \n",
        "#x # and these the encoded sequences\n",
        "\n",
        "# check the shape --> Conv2d layers expect input with the shape (n_samples, channels, height, width)\n",
        "x.shape # torch.Size([256, 3, 20, 300])"
      ],
      "execution_count": null,
      "outputs": [
        {
          "output_type": "execute_result",
          "data": {
            "text/plain": [
              "torch.Size([256, 3, 20, 300])"
            ]
          },
          "metadata": {
            "tags": []
          },
          "execution_count": 16
        }
      ]
    },
    {
      "cell_type": "code",
      "metadata": {
        "id": "6V61x6O6MX8t"
      },
      "source": [
        "# monkey patch to solve error arising from dls changeing tensor type \n",
        "def _conv_forward(self, input, weight):\n",
        "    input= input.type(torch.FloatTensor).cuda() # added this line to change the tensor type\n",
        "    #input= input.cuda()\n",
        "    if self.padding_mode != 'zeros':\n",
        "        return F.conv2d(F.pad(input, self._reversed_padding_repeated_twice, mode=self.padding_mode),\n",
        "                        weight, self.bias, self.stride,\n",
        "                        _pair(0), self.dilation, self.groups)\n",
        "    return F.conv2d(input, weight, self.bias, self.stride,\n",
        "                    self.padding, self.dilation, self.groups)\n",
        "\n",
        "# replace in the module\n",
        "nn.Conv2d._conv_forward = _conv_forward"
      ],
      "execution_count": null,
      "outputs": []
    },
    {
      "cell_type": "markdown",
      "metadata": {
        "id": "Nna2NcT4HKMx"
      },
      "source": [
        "# 3. Building and testing initial models "
      ]
    },
    {
      "cell_type": "code",
      "metadata": {
        "id": "wLK2F6kFMR0J",
        "colab": {
          "base_uri": "https://localhost:8080/",
          "height": 181
        },
        "outputId": "0bae6201-fab7-4c63-c849-b6ebf01faf18"
      },
      "source": [
        "# model 3\n",
        "# alt. cov function with batchnorm layer \n",
        "def conv(ni, nf, ks=(21, 9), act=True): # i think a non square kernel makes more sense\n",
        "    # note: better to apply different stride (e.g. (2,1))?\n",
        "    layers = [nn.Conv2d(ni, nf, stride=2, kernel_size=ks, padding=(ks[0]//2,ks[1]//2))] # (3, 5), stride=(2, 1), padding=(4, 2) # padding=ks//2)\n",
        "    layers.append(nn.BatchNorm2d(nf))\n",
        "    if act: layers.append(nn.ReLU())\n",
        "    return nn.Sequential(*layers)\n",
        "# the model\n",
        "def simple_cnn(): \n",
        "    return sequential(  # start \n",
        "        conv(1 ,8), # 1 input channel, 8 convolutions\n",
        "        conv(8 ,16),  \n",
        "        conv(16,32),  \n",
        "        conv(32,64),  \n",
        "        conv(64,128),\n",
        "        conv(128,58, act=False),  \n",
        "        Flatten(),\n",
        "    )\n",
        "# fit\n",
        "def fit(epochs=1, lr=0.06):\n",
        "    learn = Learner(dls, simple_cnn(), loss_func=F.cross_entropy,\n",
        "                        metrics=accuracy, cbs=ActivationStats(with_hist=True))\n",
        "    learn.fit_one_cycle(epochs, lr) # make training more stable with fit_one_cycle\n",
        "    return learn\n",
        "# fit the model\n",
        "learn = fit(epochs=3)\n"
      ],
      "execution_count": null,
      "outputs": [
        {
          "output_type": "stream",
          "text": [
            "/usr/local/lib/python3.7/dist-packages/fastai/callback/core.py:50: UserWarning: You are shadowing an attribute (modules) that exists in the learner. Use `self.learn.modules` to avoid this\n",
            "  warn(f\"You are shadowing an attribute ({name}) that exists in the learner. Use `self.learn.{name}` to avoid this\")\n"
          ],
          "name": "stderr"
        },
        {
          "output_type": "display_data",
          "data": {
            "text/html": [
              "<table border=\"1\" class=\"dataframe\">\n",
              "  <thead>\n",
              "    <tr style=\"text-align: left;\">\n",
              "      <th>epoch</th>\n",
              "      <th>train_loss</th>\n",
              "      <th>valid_loss</th>\n",
              "      <th>accuracy</th>\n",
              "      <th>time</th>\n",
              "    </tr>\n",
              "  </thead>\n",
              "  <tbody>\n",
              "    <tr>\n",
              "      <td>0</td>\n",
              "      <td>2.876177</td>\n",
              "      <td>2.894239</td>\n",
              "      <td>0.277263</td>\n",
              "      <td>1:09:35</td>\n",
              "    </tr>\n",
              "    <tr>\n",
              "      <td>1</td>\n",
              "      <td>2.747020</td>\n",
              "      <td>2.749356</td>\n",
              "      <td>0.306607</td>\n",
              "      <td>1:08:57</td>\n",
              "    </tr>\n",
              "    <tr>\n",
              "      <td>2</td>\n",
              "      <td>2.701354</td>\n",
              "      <td>2.705941</td>\n",
              "      <td>0.302624</td>\n",
              "      <td>1:10:26</td>\n",
              "    </tr>\n",
              "  </tbody>\n",
              "</table>"
            ],
            "text/plain": [
              "<IPython.core.display.HTML object>"
            ]
          },
          "metadata": {
            "tags": []
          }
        }
      ]
    },
    {
      "cell_type": "code",
      "metadata": {
        "id": "kInk0X4RNuZL"
      },
      "source": [
        "learn.summary()"
      ],
      "execution_count": null,
      "outputs": []
    },
    {
      "cell_type": "code",
      "metadata": {
        "colab": {
          "base_uri": "https://localhost:8080/"
        },
        "id": "08vMa3-06h-n",
        "outputId": "85925a3f-e84c-41a4-c3c6-0b53141ac8b7"
      },
      "source": [
        "learn.save('model1')"
      ],
      "execution_count": null,
      "outputs": [
        {
          "output_type": "execute_result",
          "data": {
            "text/plain": [
              "Path('models/model1.pth')"
            ]
          },
          "metadata": {
            "tags": []
          },
          "execution_count": 17
        }
      ]
    },
    {
      "cell_type": "code",
      "metadata": {
        "id": "vC7TUL-XZ24P"
      },
      "source": [
        "learn = Learner.load('models/model1.pth')"
      ],
      "execution_count": null,
      "outputs": []
    },
    {
      "cell_type": "code",
      "metadata": {
        "id": "6buH_O0Nei4E",
        "colab": {
          "base_uri": "https://localhost:8080/",
          "height": 227
        },
        "outputId": "6f0ca2d2-a109-48f4-9b81-654d5b4747af"
      },
      "source": [
        "# model 3 checking\n",
        "# checking activation\n",
        "learn.activation_stats.plot_layer_stats(-2) # check activations at the end, shouldnt be near zero\n",
        "#learn.activation_stats.color_dim(-4)\n",
        "# view learning rate\n",
        "#learn.recorder.plot_sched()"
      ],
      "execution_count": null,
      "outputs": [
        {
          "output_type": "display_data",
          "data": {
            "image/png": "[encoded data removed]",
            "text/plain": [
              "<Figure size 864x216 with 3 Axes>"
            ]
          },
          "metadata": {
            "tags": [],
            "needs_background": "light"
          }
        }
      ]
    },
    {
      "cell_type": "code",
      "metadata": {
        "colab": {
          "base_uri": "https://localhost:8080/",
          "height": 36
        },
        "id": "JHrt6Nr336Mw",
        "outputId": "c380ead1-cbf0-4c94-c626-2fa2d2f29569"
      },
      "source": [
        "learn.activation_stats.color_dim(-4)"
      ],
      "execution_count": null,
      "outputs": [
        {
          "output_type": "display_data",
          "data": {
            "image/png": "[encoded data removed]",
            "text/plain": [
              "<Figure size 720x360 with 1 Axes>"
            ]
          },
          "metadata": {
            "tags": [],
            "needs_background": "light"
          }
        }
      ]
    },
    {
      "cell_type": "code",
      "metadata": {
        "colab": {
          "base_uri": "https://localhost:8080/",
          "height": 265
        },
        "id": "CNpKAg8d39I0",
        "outputId": "41e75d82-0051-453d-d6e0-715bd4055fee"
      },
      "source": [
        "learn.recorder.plot_sched()"
      ],
      "execution_count": null,
      "outputs": [
        {
          "output_type": "display_data",
          "data": {
            "image/png": "[encoded data removed]",
            "text/plain": [
              "<Figure size 864x288 with 2 Axes>"
            ]
          },
          "metadata": {
            "tags": [],
            "needs_background": "light"
          }
        }
      ]
    },
    {
      "cell_type": "code",
      "metadata": {
        "id": "gIZMh5iRyhsK"
      },
      "source": [
        "# train for more epochs\n",
        "learn = fit(5, lr=0.1)"
      ],
      "execution_count": null,
      "outputs": []
    },
    {
      "cell_type": "markdown",
      "metadata": {
        "id": "1Xs9-AJauGou"
      },
      "source": [
        "how to choose hyperparameters:\n",
        "stride:\n",
        "kernel size:\n",
        "padding: \n"
      ]
    },
    {
      "cell_type": "code",
      "metadata": {
        "id": "VtnbNy4D8RQB"
      },
      "source": [
        "# fit and train \n",
        "epochs=1\n",
        "lr=0.06\n",
        "learn = learn.fit_one_cycle(epochs, lr) # make training more stable with fit_one_cycle"
      ],
      "execution_count": null,
      "outputs": []
    },
    {
      "cell_type": "code",
      "metadata": {
        "id": "mGpHv_pH3gxx"
      },
      "source": [
        "# check what mistakes the model is making (classifying one category mistakenly as another one)\n",
        "interp = ClassificationInterpretation.from_learner(learn)\n",
        "interp.plot_confusion_matrix()"
      ],
      "execution_count": null,
      "outputs": []
    },
    {
      "cell_type": "code",
      "metadata": {
        "id": "cICItroEUB4w"
      },
      "source": [
        "# save model\n",
        "learn.save('model')"
      ],
      "execution_count": null,
      "outputs": []
    },
    {
      "cell_type": "markdown",
      "metadata": {
        "id": "OHfzUwkrN4rt"
      },
      "source": [
        "# 4. 2D CNN with kernel = (height,x)"
      ]
    },
    {
      "cell_type": "code",
      "metadata": {
        "id": "eh513wV_NFFV",
        "colab": {
          "base_uri": "https://localhost:8080/"
        },
        "outputId": "ebd372e6-61c9-430b-c766-4fc0073406be"
      },
      "source": [
        "ConvLayer??"
      ],
      "execution_count": null,
      "outputs": [
        {
          "output_type": "stream",
          "text": [
            "Object `ConvLayer` not found.\n"
          ],
          "name": "stdout"
        }
      ]
    },
    {
      "cell_type": "code",
      "metadata": {
        "id": "-NL1AUbpJvJa"
      },
      "source": [
        "# ConvLayer creates a sequence of convolutional (ni to nf), ReLU (if use_activ) and norm_type layers\n",
        "def block(ni, nf): return ConvLayer(ni, nf, stride=2, ndim=2, ks=(20,6), padding=(0,3))"
      ],
      "execution_count": null,
      "outputs": []
    },
    {
      "cell_type": "code",
      "metadata": {
        "id": "mI_U_tCtJLeI"
      },
      "source": [
        "def get_model():\n",
        "    return nn.Sequential(\n",
        "        block(1, 16),\n",
        "        block(16, 32),\n",
        "        block(32, 64),\n",
        "        block(64, 128),\n",
        "        block(128, 256),\n",
        "        nn.AdaptiveAvgPool2d(1),\n",
        "        Flatten(),\n",
        "        nn.Linear(256, 58)) "
      ],
      "execution_count": null,
      "outputs": []
    },
    {
      "cell_type": "code",
      "metadata": {
        "id": "wQn1FDrtOwnR"
      },
      "source": [
        "# create learn object\n",
        "learn = Learner(dls, get_model(), loss_func=nn.CrossEntropyLoss(), metrics=accuracy)"
      ],
      "execution_count": null,
      "outputs": []
    },
    {
      "cell_type": "code",
      "metadata": {
        "id": "7Kuu90JyOW5i"
      },
      "source": [
        "learn.summary()"
      ],
      "execution_count": null,
      "outputs": []
    },
    {
      "cell_type": "code",
      "metadata": {
        "id": "xyqoqg9yOkmM"
      },
      "source": [
        "learn.lr_find() # choose an adequate lr"
      ],
      "execution_count": null,
      "outputs": []
    },
    {
      "cell_type": "code",
      "metadata": {
        "id": "_a48Gw2mOWKl"
      },
      "source": [
        "# fit and train \n",
        "epochs=1\n",
        "lr=0.06\n",
        "learn = learn.fit_one_cycle(epochs, lr) # make training more stable with fit_one_cycle"
      ],
      "execution_count": null,
      "outputs": []
    },
    {
      "cell_type": "markdown",
      "metadata": {
        "id": "URuGuuXkJSnz"
      },
      "source": [
        "# 5. Load the data and create the dataloader for 1D CNN layers\n"
      ]
    },
    {
      "cell_type": "code",
      "metadata": {
        "id": "fvkIv9zrK3dJ"
      },
      "source": [
        "# read in my data from which training and validation set will be created\n",
        "trainval = pd.read_csv('trainval.csv', low_memory=False)"
      ],
      "execution_count": null,
      "outputs": []
    },
    {
      "cell_type": "code",
      "metadata": {
        "id": "9SdcGtngLCuu"
      },
      "source": [
        "# defining functions required for building the DataBlock\n",
        "# one hot encoding function\n",
        "from sklearn.preprocessing import OneHotEncoder\n",
        "def OH_enc(seq: str):\n",
        "    # get the categories into array\n",
        "    cats = ['K', 'D', 'N', 'E', 'R', 'A', 'T', 'L', 'I', 'Q', 'C', 'F', 'G', 'W', 'M', 'S', 'H', 'P', 'V', 'Y']\n",
        "    cat_array = np.array(sorted(cats), ndmin=1) #\n",
        "    # get seq into array\n",
        "    trunc_seq = seq[:300] # truncate sequences longer than 300 \n",
        "    seq_array = np.array(list(trunc_seq))\n",
        "    #one hot encode the sequence\n",
        "    onehot_encoder = OneHotEncoder(categories=[cat_array],sparse=False,handle_unknown='ignore')\n",
        "    onehot_encoded_seq = onehot_encoder.fit_transform(seq_array.reshape(len(seq_array), 1))\n",
        "    return np.transpose(onehot_encoded_seq)\n",
        "\n",
        "# zero padding function\n",
        "def pad_along_axis(array: np.ndarray, target_length: int, axis: int = 0):\n",
        "    pad_size = target_length - array.shape[axis]\n",
        "    if pad_size <= 0:\n",
        "        return array\n",
        "    npad = [(0, 0)] * array.ndim\n",
        "    npad[axis] = (0, pad_size)\n",
        "    return np.pad(array, pad_width=npad, mode='constant', constant_values=0)\n",
        "\n",
        "# combine in one function\n",
        "def main_item_tfms(seq): # added -> None because the tensor shape later is 1,2820 and i think it should be 20,2820\n",
        "    enc_seq = OH_enc(seq)\n",
        "    pad_encseq_array = pad_along_axis(enc_seq,300,1)\n",
        "    return pad_encseq_array \n",
        "\n",
        "# categorize function\n",
        "tcat = Categorize(vocab=['K00024', 'K00121', 'K00122', 'K00123', 'K00124', 'K00126',\n",
        "       'K00127', 'K00148', 'K00169', 'K00170', 'K00171', 'K00172',\n",
        "       'K00194', 'K00196', 'K00197', 'K00198', 'K00200', 'K00201',\n",
        "       'K00202', 'K00317', 'K00320', 'K00441', 'K00600', 'K00625',\n",
        "       'K00672', 'K00830', 'K00925', 'K01007', 'K01070', 'K01499',\n",
        "       'K01595', 'K01895', 'K03388', 'K03389', 'K03390', 'K05979',\n",
        "       'K06034', 'K08097', 'K08691', 'K08692', 'K09733', 'K10713',\n",
        "       'K10714', 'K11212', 'K11261', 'K11779', 'K11780', 'K12234',\n",
        "       'K13039', 'K13788', 'K14067', 'K14080', 'K14083', 'K14940',\n",
        "       'K14941', 'K15228', 'K15229', 'K18277'])\n",
        "\n",
        "# questoin, do i have to also apply the ToTensor()? https://docs.fast.ai/tutorial.pets.html\n",
        "# -> answer : I think ToTensor() is always applied, like to float tensor\n",
        "tconv = ToTensor()\n",
        "# try to add this as well (add a batch_tfms (or after_batch_tfms) line to DataBlock)\n",
        "#batch_tfms = [IntToFloatTensor(), Normalize.from_stats(mean,std)]\n",
        "tofloat = IntToFloatTensor()\n",
        "\n",
        "# get_x and y by specifying column in dataframe\n",
        "def get_y(r): return tcat(r['Knum']) # apply the categorize trasnform \n",
        "\n",
        "# this should be (bs,20,300)\n",
        "def get_x(r): # apply the one hot encoding and padding function\n",
        "    #return main_item_tfms(r['Seq']) \n",
        "    return main_item_tfms(r['Seq'])\n",
        "\n",
        "# building the datablock\n",
        "dblock = DataBlock(\n",
        "                 splitter = TrainTestSplitter(test_size=0.2, random_state=42, stratify=trainval[['Knum']]),\n",
        "                 get_x = get_x,\n",
        "                 get_y = get_y,\n",
        "                 item_tfms = tconv,\n",
        "                 batch_tfms = tofloat\n",
        "                 )\n",
        "\n",
        "# checking it\n",
        "#dblock.summary(trainval)"
      ],
      "execution_count": null,
      "outputs": []
    },
    {
      "cell_type": "code",
      "metadata": {
        "id": "NBFSMeHdMEDQ"
      },
      "source": [
        "#dblock.summary(trainval)"
      ],
      "execution_count": null,
      "outputs": []
    },
    {
      "cell_type": "code",
      "metadata": {
        "id": "Dz27HTxgLIBi"
      },
      "source": [
        "# create dataloaders from datablock \n",
        "dls = dblock.dataloaders(trainval,bs=256)"
      ],
      "execution_count": null,
      "outputs": []
    },
    {
      "cell_type": "code",
      "metadata": {
        "colab": {
          "base_uri": "https://localhost:8080/"
        },
        "id": "pV_uBmDOLKyo",
        "outputId": "f96a0471-a21a-4df1-b167-91c92fe744ed"
      },
      "source": [
        "# check one batch to make sure the dls is constructed right\n",
        "x,y = dls.one_batch()\n",
        "#y # these should be the targets \n",
        "#x # and these the encoded sequences\n",
        "\n",
        "# check the shape\n",
        "x.shape #torch.Size([256, 20, 300])"
      ],
      "execution_count": null,
      "outputs": [
        {
          "output_type": "execute_result",
          "data": {
            "text/plain": [
              "torch.Size([256, 20, 300])"
            ]
          },
          "metadata": {
            "tags": []
          },
          "execution_count": 10
        }
      ]
    },
    {
      "cell_type": "code",
      "metadata": {
        "id": "5RKh1iiexzq0"
      },
      "source": [
        "# monkey patch to change back tensor type\n",
        "def _conv_forward(self, input: Tensor, weight: Tensor, bias: Optional[Tensor]):\n",
        "    input= input.type(torch.FloatTensor).cuda() # added this line to change the tensor type\n",
        "    if self.padding_mode != 'zeros':\n",
        "        return F.conv1d(F.pad(input, self._reversed_padding_repeated_twice, mode=self.padding_mode),\n",
        "                        weight, bias, self.stride,\n",
        "                        _single(0), self.dilation, self.groups)\n",
        "    return F.conv1d(input, weight, bias, self.stride,\n",
        "                    self.padding, self.dilation, self.groups)\n",
        "# replace in the module\n",
        "nn.Conv1d._conv_forward = _conv_forward"
      ],
      "execution_count": null,
      "outputs": []
    },
    {
      "cell_type": "markdown",
      "metadata": {
        "id": "HsVIBweZPc_Q"
      },
      "source": [
        "# 6. 1D CNN with 20 channels corresponding to the number of distinct amino acids"
      ]
    },
    {
      "cell_type": "code",
      "metadata": {
        "id": "tt8JJUpTRM1Y"
      },
      "source": [
        "# ConvLayer creates a sequence of convolutional (ni to nf), ReLU (if use_activ) and norm_type layers\n",
        "def block(ni, nf): return ConvLayer(ni, nf, stride=2, ndim=1, ks=5)"
      ],
      "execution_count": null,
      "outputs": []
    },
    {
      "cell_type": "code",
      "metadata": {
        "id": "dBVw_3JARNqZ"
      },
      "source": [
        "def get_model():\n",
        "    return nn.Sequential(\n",
        "        block(20, 32), #how to handle this\n",
        "        block(32, 64),\n",
        "        block(64, 128),\n",
        "        block(128, 256),\n",
        "        nn.AdaptiveAvgPool1d(1),\n",
        "        Flatten(),\n",
        "        nn.Linear(256, 58)) "
      ],
      "execution_count": null,
      "outputs": []
    },
    {
      "cell_type": "code",
      "metadata": {
        "id": "bOh92tvgRQt8"
      },
      "source": [
        "# create learn object\n",
        "learn = Learner(dls, get_model(), loss_func=nn.CrossEntropyLoss(), metrics=accuracy)"
      ],
      "execution_count": null,
      "outputs": []
    },
    {
      "cell_type": "code",
      "metadata": {
        "colab": {
          "base_uri": "https://localhost:8080/",
          "height": 714
        },
        "id": "Riq7JkzWRU-F",
        "outputId": "58eff33e-512a-4615-e4ad-0f4927728e70"
      },
      "source": [
        "learn.summary()"
      ],
      "execution_count": null,
      "outputs": [
        {
          "output_type": "display_data",
          "data": {
            "text/html": [
              ""
            ],
            "text/plain": [
              "<IPython.core.display.HTML object>"
            ]
          },
          "metadata": {
            "tags": []
          }
        },
        {
          "output_type": "execute_result",
          "data": {
            "application/vnd.google.colaboratory.intrinsic+json": {
              "type": "string"
            },
            "text/plain": [
              "Sequential (Input shape: 256)\n",
              "============================================================================\n",
              "Layer (type)         Output Shape         Param #    Trainable \n",
              "============================================================================\n",
              "                     256 x 32 x 150      \n",
              "Conv1d                                    3200       True      \n",
              "BatchNorm1d                               64         True      \n",
              "ReLU                                                           \n",
              "____________________________________________________________________________\n",
              "                     256 x 64 x 75       \n",
              "Conv1d                                    10240      True      \n",
              "BatchNorm1d                               128        True      \n",
              "ReLU                                                           \n",
              "____________________________________________________________________________\n",
              "                     256 x 128 x 38      \n",
              "Conv1d                                    40960      True      \n",
              "BatchNorm1d                               256        True      \n",
              "ReLU                                                           \n",
              "____________________________________________________________________________\n",
              "                     256 x 256 x 19      \n",
              "Conv1d                                    163840     True      \n",
              "BatchNorm1d                               512        True      \n",
              "ReLU                                                           \n",
              "AdaptiveAvgPool1d                                              \n",
              "Flatten                                                        \n",
              "____________________________________________________________________________\n",
              "                     256 x 58            \n",
              "Linear                                    14906      True      \n",
              "____________________________________________________________________________\n",
              "\n",
              "Total params: 234,106\n",
              "Total trainable params: 234,106\n",
              "Total non-trainable params: 0\n",
              "\n",
              "Optimizer used: <function Adam at 0x7fa911394dd0>\n",
              "Loss function: CrossEntropyLoss()\n",
              "\n",
              "Callbacks:\n",
              "  - TrainEvalCallback\n",
              "  - Recorder\n",
              "  - ProgressCallback"
            ]
          },
          "metadata": {
            "tags": []
          },
          "execution_count": 24
        }
      ]
    },
    {
      "cell_type": "code",
      "metadata": {
        "id": "U7AqO-LCRVbi"
      },
      "source": [
        "learn.lr_find() # choose an adequate lr"
      ],
      "execution_count": null,
      "outputs": []
    },
    {
      "cell_type": "code",
      "metadata": {
        "id": "EZQh0fvERV53"
      },
      "source": [
        "# fit and train \n",
        "epochs=1\n",
        "lr=0.06\n",
        "learn = learn.fit_one_cycle(epochs, lr) # make training more stable with fit_one_cycle"
      ],
      "execution_count": null,
      "outputs": []
    },
    {
      "cell_type": "markdown",
      "metadata": {
        "id": "3iDh9RzxHUUm"
      },
      "source": [
        "# 7. ResNet: just an idea, try at the end\n"
      ]
    },
    {
      "cell_type": "code",
      "metadata": {
        "id": "aPI-nN4RS3Gu",
        "colab": {
          "base_uri": "https://localhost:8080/"
        },
        "outputId": "f460b8e1-cd81-4a46-95de-47428b908e87"
      },
      "source": [
        "ConvLayer??"
      ],
      "execution_count": null,
      "outputs": [
        {
          "output_type": "stream",
          "text": [
            "Object `ConvLayer` not found.\n"
          ],
          "name": "stdout"
        }
      ]
    },
    {
      "cell_type": "code",
      "metadata": {
        "id": "NLo2O0L4wuqp"
      },
      "source": [
        "# function to quickly create a learn object\n",
        "def get_learner(model):\n",
        "    return Learner(dls, model, loss_func=nn.CrossEntropyLoss(), metrics=accuracy) #.to_fp16()"
      ],
      "execution_count": null,
      "outputs": []
    },
    {
      "cell_type": "code",
      "metadata": {
        "id": "p9MqaVLSAKo6"
      },
      "source": [
        "# ResBlock that is able to handle changing shape in the skip connection\n",
        "def _conv_block(ni,nf,stride):\n",
        "    return nn.Sequential(\n",
        "        ConvLayer(ni, nf, stride=stride), # look into ConvLayer\n",
        "        ConvLayer(nf, nf, act_cls=None, norm_type=NormType.BatchZero))\n",
        "class ResBlock(Module):\n",
        "    def __init__(self, ni, nf, stride=1):\n",
        "        self.convs = _conv_block(ni,nf,stride)\n",
        "        self.idconv = noop if ni==nf else ConvLayer(ni, nf, 1, act_cls=None)\n",
        "        self.pool = noop if stride==1 else nn.AvgPool2d(2, ceil_mode=True)\n",
        "\n",
        "    def forward(self, x):\n",
        "        return F.relu(self.convs(x) + self.idconv(self.pool(x)))"
      ],
      "execution_count": null,
      "outputs": []
    },
    {
      "cell_type": "code",
      "metadata": {
        "id": "JQsofIKnA4dc"
      },
      "source": [
        "# ResNet: instead of starting with ResNet blocks, it begins with a few \n",
        "# convolutional layers followed by a max pooling layer (the stem of the network)\n",
        "def _resnet_stem(*sizes): # using convulational layers\n",
        "    return [\n",
        "        ConvLayer(sizes[i], sizes[i+1], 3, stride = 2 if i==0 else 1)\n",
        "            for i in range(len(sizes)-1)\n",
        "    ] + [nn.MaxPool2d(kernel_size=3, stride=2, padding=1)]"
      ],
      "execution_count": null,
      "outputs": []
    },
    {
      "cell_type": "code",
      "metadata": {
        "id": "ET_0wyopvN6m"
      },
      "source": [
        "nn.Sequential??"
      ],
      "execution_count": null,
      "outputs": []
    },
    {
      "cell_type": "code",
      "metadata": {
        "id": "IevaeOTqBMTp"
      },
      "source": [
        "# modern ResNet\n",
        "# uses the four groups of ResNet blocks, with 64, 128, 256, then 512 filters.\n",
        "# Each group starts with a stride-2 block, except for the first one, since it’s just after a\n",
        "# MaxPooling laye\n",
        "class ResNet(nn.Sequential):\n",
        "    def __init__(self, n_out, layers, expansion=1):\n",
        "        stem = _resnet_stem(3,32,32,64)\n",
        "        self.block_szs = [64, 64, 128, 256, 512]\n",
        "        for i in range(1,5): self.block_szs[i] *= expansion\n",
        "        blocks = [self._make_layer(*o) for o in enumerate(layers)]\n",
        "        super().__init__(*stem, *blocks,\n",
        "                         nn.AdaptiveAvgPool2d(1), Flatten(),\n",
        "                         nn.Linear(self.block_szs[-1], n_out))\n",
        "    # function to create a series of n_layers blocks. The first one is going from ch_in to ch_out with \n",
        "    # the indicated stride, and all the others are blocks of stride 1 with ch_out to ch_out tensors\n",
        "    def _make_layer(self, idx, n_layers):\n",
        "        stride = 1 if idx==0 else 2\n",
        "        ch_in,ch_out = self.block_szs[idx:idx+2]\n",
        "        return nn.Sequential(*[\n",
        "            ResBlock(ch_in if i==0 else ch_out, ch_out, stride if i==0 else 1)\n",
        "            for i in range(n_layers)\n",
        "        ])"
      ],
      "execution_count": null,
      "outputs": []
    },
    {
      "cell_type": "code",
      "metadata": {
        "id": "4NHVeBcABkwR"
      },
      "source": [
        "# bottleneck layers, replace ResBlock in ResNet\n",
        "def _conv_block(ni,nf,stride):\n",
        "    return nn.Sequential(\n",
        "        ConvLayer(ni, nf//4, 1),\n",
        "        ConvLayer(nf//4, nf//4, stride=stride), \n",
        "        ConvLayer(nf//4, nf, 1, act_cls=None, norm_type=NormType.BatchZero))"
      ],
      "execution_count": null,
      "outputs": []
    },
    {
      "cell_type": "code",
      "metadata": {
        "id": "pm2v-7sABTvr"
      },
      "source": [
        "# various versions of the models (ResNet-18, -34, -50, etc.) just change the number of blocks in each of those groups\n",
        "# definition of a ResNet-18\n",
        "#rn = ResNet(dls.c, [2,2,2,2]) # dls c should be zthe number of outputs\n",
        "rn = ResNet(58, [2,2,2,2])"
      ],
      "execution_count": null,
      "outputs": []
    },
    {
      "cell_type": "code",
      "metadata": {
        "id": "YE6GNwnnBVXM"
      },
      "source": [
        "# create learner\n",
        "learn = get_learner(rn)"
      ],
      "execution_count": null,
      "outputs": []
    },
    {
      "cell_type": "code",
      "metadata": {
        "id": "xyWWR7010gPa"
      },
      "source": [
        "learn.summary() \n",
        "# TypeError: _conv_forward() takes 3 positional arguments but 4 were given (in Cov2d)"
      ],
      "execution_count": null,
      "outputs": []
    },
    {
      "cell_type": "code",
      "metadata": {
        "id": "4Zf-vtXIF1VI"
      },
      "source": [
        "# find lr\n",
        "learn.lr_find() # choose an adequate lr"
      ],
      "execution_count": null,
      "outputs": []
    },
    {
      "cell_type": "code",
      "metadata": {
        "id": "MQeQSpyGzU2m"
      },
      "source": [
        "# train\n",
        "learn.fit_one_cycle(5, 3e-3)"
      ],
      "execution_count": null,
      "outputs": []
    },
    {
      "cell_type": "code",
      "metadata": {
        "id": "jezz_KmABwrv"
      },
      "source": [
        "# ResNet-50 with group sizes of (3,4,6,3)\n",
        "rn = ResNet(dls.c, [3,4,6,3], 4) # pass in 4 because we need to start with four times fewer channels and we’ll end with four times more channels."
      ],
      "execution_count": null,
      "outputs": []
    },
    {
      "cell_type": "code",
      "metadata": {
        "id": "UfpbFLH0BySE"
      },
      "source": [
        "# train\n",
        "learn = get_learner(rn)\n",
        "learn.fit_one_cycle(20, 3e-3)"
      ],
      "execution_count": null,
      "outputs": []
    },
    {
      "cell_type": "code",
      "metadata": {
        "id": "iWGMCG9fCA0g"
      },
      "source": [
        "# try adding Mixup ??? what is that p456"
      ],
      "execution_count": null,
      "outputs": []
    }
  ]
}